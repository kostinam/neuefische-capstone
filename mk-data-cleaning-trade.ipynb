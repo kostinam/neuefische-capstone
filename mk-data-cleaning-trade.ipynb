{
 "cells": [
  {
   "cell_type": "code",
   "execution_count": 1,
   "metadata": {},
   "outputs": [],
   "source": [
    "# Import packages\n",
    "import pandas as pd\n",
    "import numpy as np \n",
    "import requests \n",
    "import zipfile\n",
    "import psycopg2\n",
    "import sqlalchemy\n",
    "import _functions_sql as fs\n",
    "import _functions_data_files as fdf"
   ]
  },
  {
   "cell_type": "code",
   "execution_count": 3,
   "metadata": {},
   "outputs": [],
   "source": [
    "# Import CSV file\n",
    "source_dir = 'faostat_trade_matrix'\n",
    "file_name = 'Trade_DetailedTradeMatrix_E_All_Data_(Normalized).csv'\n",
    "# define converters for 'read_csv' & import file\n",
    "conv = {\n",
    "    'Note': str # handle DtypeWarning not using 'low_memory=False' (deprecated)\n",
    "                # so missing values are now read as empty string ('')\n",
    "}\n",
    "trade_matrix = pd.read_csv(\n",
    "      fdf.get_path(file_name, source_dir)\n",
    "    , encoding='latin-1'\n",
    "    , converters=conv\n",
    ")"
   ]
  },
  {
   "cell_type": "code",
   "execution_count": 4,
   "metadata": {},
   "outputs": [
    {
     "data": {
      "text/html": [
       "<div>\n",
       "<style scoped>\n",
       "    .dataframe tbody tr th:only-of-type {\n",
       "        vertical-align: middle;\n",
       "    }\n",
       "\n",
       "    .dataframe tbody tr th {\n",
       "        vertical-align: top;\n",
       "    }\n",
       "\n",
       "    .dataframe thead th {\n",
       "        text-align: right;\n",
       "    }\n",
       "</style>\n",
       "<table border=\"1\" class=\"dataframe\">\n",
       "  <thead>\n",
       "    <tr style=\"text-align: right;\">\n",
       "      <th></th>\n",
       "      <th>Reporter Country Code</th>\n",
       "      <th>Reporter Country Code (M49)</th>\n",
       "      <th>Reporter Countries</th>\n",
       "      <th>Partner Country Code</th>\n",
       "      <th>Partner Country Code (M49)</th>\n",
       "      <th>Partner Countries</th>\n",
       "      <th>Item Code</th>\n",
       "      <th>Item Code (CPC)</th>\n",
       "      <th>Item</th>\n",
       "      <th>Element Code</th>\n",
       "      <th>Element</th>\n",
       "      <th>Year Code</th>\n",
       "      <th>Year</th>\n",
       "      <th>Unit</th>\n",
       "      <th>Value</th>\n",
       "      <th>Flag</th>\n",
       "    </tr>\n",
       "  </thead>\n",
       "  <tbody>\n",
       "    <tr>\n",
       "      <th>0</th>\n",
       "      <td>2</td>\n",
       "      <td>'004</td>\n",
       "      <td>Afghanistan</td>\n",
       "      <td>4</td>\n",
       "      <td>'012</td>\n",
       "      <td>Algeria</td>\n",
       "      <td>230</td>\n",
       "      <td>'21424</td>\n",
       "      <td>Cashew nuts, shelled</td>\n",
       "      <td>5910</td>\n",
       "      <td>Export Quantity</td>\n",
       "      <td>2016</td>\n",
       "      <td>2016</td>\n",
       "      <td>t</td>\n",
       "      <td>3.0</td>\n",
       "      <td>X</td>\n",
       "    </tr>\n",
       "    <tr>\n",
       "      <th>1</th>\n",
       "      <td>2</td>\n",
       "      <td>'004</td>\n",
       "      <td>Afghanistan</td>\n",
       "      <td>4</td>\n",
       "      <td>'012</td>\n",
       "      <td>Algeria</td>\n",
       "      <td>230</td>\n",
       "      <td>'21424</td>\n",
       "      <td>Cashew nuts, shelled</td>\n",
       "      <td>5922</td>\n",
       "      <td>Export Value</td>\n",
       "      <td>2016</td>\n",
       "      <td>2016</td>\n",
       "      <td>1000 USD</td>\n",
       "      <td>23.0</td>\n",
       "      <td>X</td>\n",
       "    </tr>\n",
       "    <tr>\n",
       "      <th>2</th>\n",
       "      <td>3</td>\n",
       "      <td>'008</td>\n",
       "      <td>Albania</td>\n",
       "      <td>3</td>\n",
       "      <td>'008</td>\n",
       "      <td>Albania</td>\n",
       "      <td>828</td>\n",
       "      <td>'25020.01</td>\n",
       "      <td>Cigarettes</td>\n",
       "      <td>5610</td>\n",
       "      <td>Import Quantity</td>\n",
       "      <td>2004</td>\n",
       "      <td>2004</td>\n",
       "      <td>t</td>\n",
       "      <td>12.0</td>\n",
       "      <td>A</td>\n",
       "    </tr>\n",
       "    <tr>\n",
       "      <th>3</th>\n",
       "      <td>3</td>\n",
       "      <td>'008</td>\n",
       "      <td>Albania</td>\n",
       "      <td>3</td>\n",
       "      <td>'008</td>\n",
       "      <td>Albania</td>\n",
       "      <td>828</td>\n",
       "      <td>'25020.01</td>\n",
       "      <td>Cigarettes</td>\n",
       "      <td>5622</td>\n",
       "      <td>Import Value</td>\n",
       "      <td>2004</td>\n",
       "      <td>2004</td>\n",
       "      <td>1000 USD</td>\n",
       "      <td>104.0</td>\n",
       "      <td>A</td>\n",
       "    </tr>\n",
       "    <tr>\n",
       "      <th>4</th>\n",
       "      <td>4</td>\n",
       "      <td>'012</td>\n",
       "      <td>Algeria</td>\n",
       "      <td>2</td>\n",
       "      <td>'004</td>\n",
       "      <td>Afghanistan</td>\n",
       "      <td>231</td>\n",
       "      <td>'21422</td>\n",
       "      <td>Almonds, shelled</td>\n",
       "      <td>5610</td>\n",
       "      <td>Import Quantity</td>\n",
       "      <td>2005</td>\n",
       "      <td>2005</td>\n",
       "      <td>t</td>\n",
       "      <td>3.0</td>\n",
       "      <td>A</td>\n",
       "    </tr>\n",
       "  </tbody>\n",
       "</table>\n",
       "</div>"
      ],
      "text/plain": [
       "   Reporter Country Code Reporter Country Code (M49) Reporter Countries  \\\n",
       "0                      2                        '004        Afghanistan   \n",
       "1                      2                        '004        Afghanistan   \n",
       "2                      3                        '008            Albania   \n",
       "3                      3                        '008            Albania   \n",
       "4                      4                        '012            Algeria   \n",
       "\n",
       "   Partner Country Code Partner Country Code (M49) Partner Countries  \\\n",
       "0                     4                       '012           Algeria   \n",
       "1                     4                       '012           Algeria   \n",
       "2                     3                       '008           Albania   \n",
       "3                     3                       '008           Albania   \n",
       "4                     2                       '004       Afghanistan   \n",
       "\n",
       "   Item Code Item Code (CPC)                  Item  Element Code  \\\n",
       "0        230          '21424  Cashew nuts, shelled          5910   \n",
       "1        230          '21424  Cashew nuts, shelled          5922   \n",
       "2        828       '25020.01            Cigarettes          5610   \n",
       "3        828       '25020.01            Cigarettes          5622   \n",
       "4        231          '21422      Almonds, shelled          5610   \n",
       "\n",
       "           Element  Year Code  Year      Unit  Value Flag  \n",
       "0  Export Quantity       2016  2016         t    3.0    X  \n",
       "1     Export Value       2016  2016  1000 USD   23.0    X  \n",
       "2  Import Quantity       2004  2004         t   12.0    A  \n",
       "3     Import Value       2004  2004  1000 USD  104.0    A  \n",
       "4  Import Quantity       2005  2005         t    3.0    A  "
      ]
     },
     "execution_count": 4,
     "metadata": {},
     "output_type": "execute_result"
    }
   ],
   "source": [
    "trade_matrix.head()"
   ]
  },
  {
   "cell_type": "code",
   "execution_count": 5,
   "metadata": {},
   "outputs": [
    {
     "name": "stdout",
     "output_type": "stream",
     "text": [
      "<class 'pandas.core.frame.DataFrame'>\n",
      "RangeIndex: 49159659 entries, 0 to 49159658\n",
      "Data columns (total 16 columns):\n",
      " #   Column                       Dtype  \n",
      "---  ------                       -----  \n",
      " 0   Reporter Country Code        int64  \n",
      " 1   Reporter Country Code (M49)  object \n",
      " 2   Reporter Countries           object \n",
      " 3   Partner Country Code         int64  \n",
      " 4   Partner Country Code (M49)   object \n",
      " 5   Partner Countries            object \n",
      " 6   Item Code                    int64  \n",
      " 7   Item Code (CPC)              object \n",
      " 8   Item                         object \n",
      " 9   Element Code                 int64  \n",
      " 10  Element                      object \n",
      " 11  Year Code                    int64  \n",
      " 12  Year                         int64  \n",
      " 13  Unit                         object \n",
      " 14  Value                        float64\n",
      " 15  Flag                         object \n",
      "dtypes: float64(1), int64(6), object(9)\n",
      "memory usage: 5.9+ GB\n"
     ]
    }
   ],
   "source": [
    "trade_matrix.info()"
   ]
  },
  {
   "cell_type": "code",
   "execution_count": 27,
   "metadata": {},
   "outputs": [
    {
     "data": {
      "text/plain": [
       "False    49159659\n",
       "Name: count, dtype: int64"
      ]
     },
     "execution_count": 27,
     "metadata": {},
     "output_type": "execute_result"
    }
   ],
   "source": [
    "# Check for full duplicates\n",
    "trade_matrix.duplicated().value_counts()"
   ]
  },
  {
   "cell_type": "code",
   "execution_count": 6,
   "metadata": {},
   "outputs": [],
   "source": [
    "# Drop unneeded columns\n",
    "trade_matrix.drop(columns = ['Reporter Country Code', 'Reporter Country Code (M49)', 'Partner Country Code', 'Partner Country Code (M49)', 'Item Code (CPC)','Year Code', 'Element Code', 'Flag'], inplace=True)"
   ]
  },
  {
   "cell_type": "code",
   "execution_count": 7,
   "metadata": {},
   "outputs": [],
   "source": [
    "# Rename remaining columns\n",
    "trade_matrix.rename(columns = {'Reporter Countries':'reporting_country', 'Partner Countries': 'partner_country', 'Item Code':'item_code', 'Item':'item', 'Element':'element', 'Year':'year', 'Unit':'unit', 'Value':'value'}, inplace=True)"
   ]
  },
  {
   "cell_type": "code",
   "execution_count": 8,
   "metadata": {},
   "outputs": [
    {
     "data": {
      "text/plain": [
       "array(['Export Quantity', 'Export Value', 'Import Quantity',\n",
       "       'Import Value'], dtype=object)"
      ]
     },
     "execution_count": 8,
     "metadata": {},
     "output_type": "execute_result"
    }
   ],
   "source": [
    "# Getting a list of unique values in the element column\n",
    "trade_matrix['element'].unique()"
   ]
  },
  {
   "cell_type": "code",
   "execution_count": 9,
   "metadata": {},
   "outputs": [
    {
     "data": {
      "text/plain": [
       "array(['t', '1000 USD', 'An', '1000 An', 'No'], dtype=object)"
      ]
     },
     "execution_count": 9,
     "metadata": {},
     "output_type": "execute_result"
    }
   ],
   "source": [
    "# Getting a list of unique values in the unit column\n",
    "trade_matrix['unit'].unique()"
   ]
  },
  {
   "cell_type": "code",
   "execution_count": 10,
   "metadata": {},
   "outputs": [],
   "source": [
    "trade_matrix_new = trade_matrix.pivot_table(index=['reporting_country','partner_country','item_code', 'item', 'year', 'unit'],\n",
    "                    columns='element', values='value', aggfunc='sum').reset_index()"
   ]
  },
  {
   "cell_type": "code",
   "execution_count": 64,
   "metadata": {},
   "outputs": [
    {
     "name": "stdout",
     "output_type": "stream",
     "text": [
      "<class 'pandas.core.frame.DataFrame'>\n",
      "RangeIndex: 41201826 entries, 0 to 41201825\n",
      "Data columns (total 10 columns):\n",
      " #   Column             Dtype  \n",
      "---  ------             -----  \n",
      " 0   reporting_country  object \n",
      " 1   partner_country    object \n",
      " 2   item_code          int64  \n",
      " 3   item               object \n",
      " 4   year               int64  \n",
      " 5   unit               object \n",
      " 6   export_quantity    float64\n",
      " 7   export_value       float64\n",
      " 8   import_quantity    float64\n",
      " 9   import_value       float64\n",
      "dtypes: float64(4), int64(2), object(4)\n",
      "memory usage: 3.1+ GB\n"
     ]
    }
   ],
   "source": [
    "trade_matrix_new.info()"
   ]
  },
  {
   "cell_type": "code",
   "execution_count": 69,
   "metadata": {},
   "outputs": [
    {
     "data": {
      "text/html": [
       "<div>\n",
       "<style scoped>\n",
       "    .dataframe tbody tr th:only-of-type {\n",
       "        vertical-align: middle;\n",
       "    }\n",
       "\n",
       "    .dataframe tbody tr th {\n",
       "        vertical-align: top;\n",
       "    }\n",
       "\n",
       "    .dataframe thead th {\n",
       "        text-align: right;\n",
       "    }\n",
       "</style>\n",
       "<table border=\"1\" class=\"dataframe\">\n",
       "  <thead>\n",
       "    <tr style=\"text-align: right;\">\n",
       "      <th></th>\n",
       "      <th>reporting_country</th>\n",
       "      <th>partner_country</th>\n",
       "      <th>item_code</th>\n",
       "      <th>item</th>\n",
       "      <th>year</th>\n",
       "      <th>unit</th>\n",
       "      <th>export_quantity</th>\n",
       "      <th>export_value</th>\n",
       "      <th>import_quantity</th>\n",
       "      <th>import_value</th>\n",
       "    </tr>\n",
       "  </thead>\n",
       "  <tbody>\n",
       "    <tr>\n",
       "      <th>0</th>\n",
       "      <td>Afghanistan</td>\n",
       "      <td>Algeria</td>\n",
       "      <td>230</td>\n",
       "      <td>Cashew nuts, shelled</td>\n",
       "      <td>2016</td>\n",
       "      <td>1000 USD</td>\n",
       "      <td>NaN</td>\n",
       "      <td>23000.0</td>\n",
       "      <td>NaN</td>\n",
       "      <td>NaN</td>\n",
       "    </tr>\n",
       "    <tr>\n",
       "      <th>1</th>\n",
       "      <td>Afghanistan</td>\n",
       "      <td>Algeria</td>\n",
       "      <td>230</td>\n",
       "      <td>Cashew nuts, shelled</td>\n",
       "      <td>2016</td>\n",
       "      <td>t</td>\n",
       "      <td>3000.0</td>\n",
       "      <td>NaN</td>\n",
       "      <td>NaN</td>\n",
       "      <td>NaN</td>\n",
       "    </tr>\n",
       "    <tr>\n",
       "      <th>2</th>\n",
       "      <td>Afghanistan</td>\n",
       "      <td>Algeria</td>\n",
       "      <td>561</td>\n",
       "      <td>Raisins</td>\n",
       "      <td>2014</td>\n",
       "      <td>1000 USD</td>\n",
       "      <td>NaN</td>\n",
       "      <td>27000.0</td>\n",
       "      <td>NaN</td>\n",
       "      <td>NaN</td>\n",
       "    </tr>\n",
       "    <tr>\n",
       "      <th>3</th>\n",
       "      <td>Afghanistan</td>\n",
       "      <td>Algeria</td>\n",
       "      <td>561</td>\n",
       "      <td>Raisins</td>\n",
       "      <td>2014</td>\n",
       "      <td>t</td>\n",
       "      <td>12460.0</td>\n",
       "      <td>NaN</td>\n",
       "      <td>NaN</td>\n",
       "      <td>NaN</td>\n",
       "    </tr>\n",
       "    <tr>\n",
       "      <th>4</th>\n",
       "      <td>Afghanistan</td>\n",
       "      <td>Algeria</td>\n",
       "      <td>723</td>\n",
       "      <td>Other stimulant, spice and aromatic crops, n.e.c.</td>\n",
       "      <td>2014</td>\n",
       "      <td>1000 USD</td>\n",
       "      <td>NaN</td>\n",
       "      <td>0.0</td>\n",
       "      <td>NaN</td>\n",
       "      <td>NaN</td>\n",
       "    </tr>\n",
       "  </tbody>\n",
       "</table>\n",
       "</div>"
      ],
      "text/plain": [
       "  reporting_country partner_country  item_code  \\\n",
       "0       Afghanistan         Algeria        230   \n",
       "1       Afghanistan         Algeria        230   \n",
       "2       Afghanistan         Algeria        561   \n",
       "3       Afghanistan         Algeria        561   \n",
       "4       Afghanistan         Algeria        723   \n",
       "\n",
       "                                                item  year      unit  \\\n",
       "0                               Cashew nuts, shelled  2016  1000 USD   \n",
       "1                               Cashew nuts, shelled  2016         t   \n",
       "2                                            Raisins  2014  1000 USD   \n",
       "3                                            Raisins  2014         t   \n",
       "4  Other stimulant, spice and aromatic crops, n.e.c.  2014  1000 USD   \n",
       "\n",
       "   export_quantity  export_value  import_quantity  import_value  \n",
       "0              NaN       23000.0              NaN           NaN  \n",
       "1           3000.0           NaN              NaN           NaN  \n",
       "2              NaN       27000.0              NaN           NaN  \n",
       "3          12460.0           NaN              NaN           NaN  \n",
       "4              NaN           0.0              NaN           NaN  "
      ]
     },
     "execution_count": 69,
     "metadata": {},
     "output_type": "execute_result"
    }
   ],
   "source": [
    "trade_matrix_new.head()"
   ]
  },
  {
   "cell_type": "code",
   "execution_count": 16,
   "metadata": {},
   "outputs": [
    {
     "data": {
      "text/html": [
       "<div>\n",
       "<style scoped>\n",
       "    .dataframe tbody tr th:only-of-type {\n",
       "        vertical-align: middle;\n",
       "    }\n",
       "\n",
       "    .dataframe tbody tr th {\n",
       "        vertical-align: top;\n",
       "    }\n",
       "\n",
       "    .dataframe thead th {\n",
       "        text-align: right;\n",
       "    }\n",
       "</style>\n",
       "<table border=\"1\" class=\"dataframe\">\n",
       "  <thead>\n",
       "    <tr style=\"text-align: right;\">\n",
       "      <th>element</th>\n",
       "      <th>reporting_country</th>\n",
       "      <th>partner_country</th>\n",
       "      <th>item_code</th>\n",
       "      <th>item</th>\n",
       "      <th>year</th>\n",
       "      <th>unit</th>\n",
       "      <th>Export Quantity</th>\n",
       "      <th>Export Value</th>\n",
       "      <th>Import Quantity</th>\n",
       "      <th>Import Value</th>\n",
       "    </tr>\n",
       "  </thead>\n",
       "  <tbody>\n",
       "  </tbody>\n",
       "</table>\n",
       "</div>"
      ],
      "text/plain": [
       "Empty DataFrame\n",
       "Columns: [reporting_country, partner_country, item_code, item, year, unit, Export Quantity, Export Value, Import Quantity, Import Value]\n",
       "Index: []"
      ]
     },
     "execution_count": 16,
     "metadata": {},
     "output_type": "execute_result"
    }
   ],
   "source": [
    "duplicates = trade_matrix_new[trade_matrix_new[['reporting_country', 'partner_country', 'year', 'item', 'unit','Export Quantity', 'Export Value']].duplicated(keep=False)]\n",
    "duplicates.head()"
   ]
  },
  {
   "cell_type": "code",
   "execution_count": 66,
   "metadata": {},
   "outputs": [],
   "source": [
    "# Rename new columns\n",
    "trade_matrix_new.rename(columns = {'Export Quantity':'export_quantity', 'Export Value': 'export_value', 'Import Value':'import_value', 'Import Quantity':'import_quantity'}, inplace=True)"
   ]
  },
  {
   "cell_type": "code",
   "execution_count": 40,
   "metadata": {},
   "outputs": [],
   "source": [
    "#trade_matrix_new.loc[:, 'export_value'] *= 1000"
   ]
  },
  {
   "cell_type": "code",
   "execution_count": 41,
   "metadata": {},
   "outputs": [],
   "source": [
    "#trade_matrix_new.loc[:, 'import_value'] *= 1000"
   ]
  },
  {
   "cell_type": "code",
   "execution_count": 44,
   "metadata": {},
   "outputs": [],
   "source": [
    "#trade_matrix_new.loc[:, 'export_quantity'] *= 1000"
   ]
  },
  {
   "cell_type": "code",
   "execution_count": 46,
   "metadata": {},
   "outputs": [],
   "source": [
    "#trade_matrix_new.loc[:, 'import_quantity'] *= 1000"
   ]
  },
  {
   "cell_type": "code",
   "execution_count": 68,
   "metadata": {},
   "outputs": [],
   "source": [
    "trade_matrix_new = trade_matrix_new.rename_axis(None, axis=1)"
   ]
  },
  {
   "cell_type": "code",
   "execution_count": 17,
   "metadata": {},
   "outputs": [],
   "source": [
    "trade_matrix_new.to_csv(\"trade_matrix.csv\", index = False, sep=',', encoding='latin-1')\n"
   ]
  },
  {
   "cell_type": "code",
   "execution_count": 71,
   "metadata": {},
   "outputs": [
    {
     "name": "stdout",
     "output_type": "stream",
     "text": [
      "Can't reconnect until invalid transaction is rolled back. (Background on this error at: https://sqlalche.me/e/14/8s2b)\n"
     ]
    }
   ],
   "source": [
    "# Export the table\n",
    "engine = fs.get_engine()\n",
    "schema = 'capstone_envirolytics'\n",
    "table_name = 'fao_trade_matrix_new'\n",
    "\n",
    "if engine!=None:\n",
    "    try:\n",
    "        trade_matrix_new.to_sql(name=table_name, # Name of SQL table\n",
    "                        con=engine, # Engine or connection\n",
    "                        if_exists='replace', # Drop the table before inserting new values \n",
    "                        schema=schema, # Use schema that was defined earlier\n",
    "                        index=False, # Write DataFrame index as a column\n",
    "                        chunksize=5000, # Specify the number of rows in each batch to be written at a time\n",
    "                        method='multi') # Pass multiple values in a single INSERT clause\n",
    "        print(f\"The {table_name} table was imported successfully.\")\n",
    "    # Error handling\n",
    "    except (Exception, psycopg2.DatabaseError) as error:\n",
    "        print(error)\n",
    "        engine = None"
   ]
  }
 ],
 "metadata": {
  "kernelspec": {
   "display_name": "capstone",
   "language": "python",
   "name": "python3"
  },
  "language_info": {
   "codemirror_mode": {
    "name": "ipython",
    "version": 3
   },
   "file_extension": ".py",
   "mimetype": "text/x-python",
   "name": "python",
   "nbconvert_exporter": "python",
   "pygments_lexer": "ipython3",
   "version": "3.9.18"
  }
 },
 "nbformat": 4,
 "nbformat_minor": 2
}
