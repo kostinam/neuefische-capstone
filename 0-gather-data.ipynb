{
 "cells": [
  {
   "cell_type": "markdown",
   "metadata": {},
   "source": [
    "# Gather data"
   ]
  },
  {
   "cell_type": "markdown",
   "metadata": {},
   "source": [
    "Downloading (or updating) all data source files from official sources and storing them inside individual subfolders within the 'data' folder. Note that this downloads all the files related to a specific dataset. "
   ]
  },
  {
   "cell_type": "code",
   "execution_count": 1,
   "metadata": {},
   "outputs": [],
   "source": [
    "# Importing data download functions\n",
    "import _functions_data_files as fdf"
   ]
  },
  {
   "cell_type": "code",
   "execution_count": 5,
   "metadata": {},
   "outputs": [],
   "source": [
    "data_downloads = {\n",
    "     'fao_emissions_crops' : {\n",
    "          'title' : '[FAO] emissions from crops'\n",
    "        , 'src'   : 'https://www.fao.org/faostat/en/#data/GCE'\n",
    "        , 'downl' : 'https://fenixservices.fao.org/faostat/static/bulkdownloads/'\n",
    "                    + 'Emissions_crops_E_All_Data_(Normalized).zip'\n",
    "        , 'file'  : 'Emissions_crops_E_All_Data_(Normalized).csv'\n",
    "    }\n",
    "    , 'fao_emissions_intensities' : {\n",
    "          'title' : '[FAO] emissions intensities'\n",
    "        , 'src'   : 'https://www.fao.org/faostat/en/#data/EI'\n",
    "        , 'downl' : 'https://fenixservices.fao.org/faostat/static/bulkdownloads/'\n",
    "                    + 'Environment_Emissions_intensities_E_All_Data_(Normalized).zip'\n",
    "        , 'file'  : 'Environment_Emissions_intensities_E_All_Data_(Normalized).csv'\n",
    "    }\n",
    "    , 'fao_emissions_livestock' : {\n",
    "          'title' : '[FAO] emissions from livestock'\n",
    "        , 'src'   : 'https://www.fao.org/faostat/en/#data/GLE'\n",
    "        , 'downl' : 'https://fenixservices.fao.org/faostat/static/bulkdownloads/'\n",
    "                    + 'Emissions_livestock_E_All_Data_(Normalized).zip'\n",
    "        , 'file'  : 'Emissions_livestock_E_All_Data_(Normalized).csv'\n",
    "    }\n",
    "    , 'fao_production' : {\n",
    "          'title' : '[FAO] production of crops and livestock products'\n",
    "        , 'src'   : 'https://www.fao.org/faostat/en/#data/QCL'\n",
    "        , 'downl' : 'https://fenixservices.fao.org/faostat/static/bulkdownloads/'\n",
    "                    + 'Production_Crops_Livestock_E_All_Data_(Normalized).zip'\n",
    "        , 'file'  : 'Production_Crops_Livestock_E_All_Data_(Normalized).csv'\n",
    "    }\n",
    "    , 'fao_trade_matrix' : {\n",
    "          'title' : '[FAO] detailed trade matrix'\n",
    "        , 'src'   : 'https://www.fao.org/faostat/en/#data/TM'\n",
    "        , 'downl' : 'https://fenixservices.fao.org/faostat/static/bulkdownloads/'\n",
    "                    + 'Trade_DetailedTradeMatrix_E_All_Data_(Normalized).zip'\n",
    "        , 'file'  : 'Trade_DetailedTradeMatrix_E_All_Data_(Normalized).csv'\n",
    "    }\n",
    "}"
   ]
  },
  {
   "cell_type": "code",
   "execution_count": 6,
   "metadata": {},
   "outputs": [
    {
     "name": "stdout",
     "output_type": "stream",
     "text": [
      "# downloading: [FAO] emissions from crops\n",
      "+ file downloaded: Emissions_crops_E_All_Data_(Normalized).zip\n",
      "+ files extracted: ['Emissions_crops_E_All_Data_(Normalized).csv', 'Emissions_crops_E_AreaCodes.csv', 'Emissions_crops_E_Flags.csv', 'Emissions_crops_E_ItemCodes.csv']\n",
      "+ target file found: ./data/fao_emissions_crops/Emissions_crops_E_All_Data_(Normalized).csv\n",
      "# downloading: [FAO] emissions intensities\n",
      "+ file downloaded: Environment_Emissions_intensities_E_All_Data_(Normalized).zip\n",
      "+ files extracted: ['Environment_Emissions_intensities_E_All_Data_(Normalized).csv', 'Environment_Emissions_intensities_E_AreaCodes.csv', 'Environment_Emissions_intensities_E_Flags.csv', 'Environment_Emissions_intensities_E_ItemCodes.csv']\n",
      "+ target file found: ./data/fao_emissions_intensities/Environment_Emissions_intensities_E_All_Data_(Normalized).csv\n",
      "# downloading: [FAO] emissions from livestock\n",
      "+ file downloaded: Emissions_livestock_E_All_Data_(Normalized).zip\n",
      "+ files extracted: ['Emissions_livestock_E_All_Data_(Normalized).csv', 'Emissions_livestock_E_AreaCodes.csv', 'Emissions_livestock_E_Flags.csv', 'Emissions_livestock_E_ItemCodes.csv']\n",
      "+ target file found: ./data/fao_emissions_livestock/Emissions_livestock_E_All_Data_(Normalized).csv\n",
      "# downloading: [FAO] production of crops and livestock products\n",
      "+ file downloaded: Production_Crops_Livestock_E_All_Data_(Normalized).zip\n",
      "+ files extracted: ['Production_Crops_Livestock_E_All_Data_(Normalized).csv', 'Production_Crops_Livestock_E_AreaCodes.csv', 'Production_Crops_Livestock_E_Flags.csv', 'Production_Crops_Livestock_E_ItemCodes.csv']\n",
      "+ target file found: ./data/fao_production/Production_Crops_Livestock_E_All_Data_(Normalized).csv\n",
      "# downloading: [FAO] detailed trade matrix\n",
      "+ file downloaded: Trade_DetailedTradeMatrix_E_All_Data_(Normalized).zip\n",
      "+ files extracted: ['Trade_DetailedTradeMatrix_E_All_Data_(Normalized).csv', 'Trade_DetailedTradeMatrix_E_AreaCodes.csv', 'Trade_DetailedTradeMatrix_E_Flags.csv', 'Trade_DetailedTradeMatrix_E_ItemCodes.csv']\n",
      "+ target file found: ./data/fao_trade_matrix/Trade_DetailedTradeMatrix_E_All_Data_(Normalized).csv\n"
     ]
    }
   ],
   "source": [
    "# Create database directory (should be excluded via '.gitignore')\n",
    "if not fdf.create_data_dir():\n",
    "    print('ERROR! create data dir failed')\n",
    "else:\n",
    "    # download & extract all files, search for target file & print path\n",
    "    for sub_dir, data in data_downloads.items():\n",
    "        print('# downloading:', data['title'])\n",
    "        if not (zipfile := fdf.download(data['downl'], sub_dir)):\n",
    "            print('ERROR! download failed')\n",
    "        else:\n",
    "            if not data['file'] in fdf.unzip(zipfile, sub_dir):\n",
    "                print('ERROR! target file not extracted')\n",
    "            else:\n",
    "                if not (path := fdf.get_path(data['file'], sub_dir, True)):\n",
    "                    print('ERROR! target file not found in file system')\n",
    "                else:\n",
    "                    print('+ target file found:', path)"
   ]
  }
 ],
 "metadata": {
  "kernelspec": {
   "display_name": "capstone",
   "language": "python",
   "name": "python3"
  },
  "language_info": {
   "codemirror_mode": {
    "name": "ipython",
    "version": 3
   },
   "file_extension": ".py",
   "mimetype": "text/x-python",
   "name": "python",
   "nbconvert_exporter": "python",
   "pygments_lexer": "ipython3",
   "version": "3.9.18"
  }
 },
 "nbformat": 4,
 "nbformat_minor": 2
}
