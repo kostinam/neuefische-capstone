{
 "cells": [
  {
   "cell_type": "code",
   "execution_count": 7,
   "metadata": {},
   "outputs": [],
   "source": [
    "import _functions_data_files as fdf"
   ]
  },
  {
   "cell_type": "code",
   "execution_count": 12,
   "metadata": {},
   "outputs": [],
   "source": [
    "data_downloads = {\n",
    "     'fao_emissions_crops' : {\n",
    "          'title' : '[FAO] emissions from crops'\n",
    "        , 'src'   : 'https://www.fao.org/faostat/en/#data/GCE'\n",
    "        , 'downl' : 'https://fenixservices.fao.org/faostat/static/bulkdownloads/'\n",
    "                    + 'Emissions_crops_E_All_Data_(Normalized).zip'\n",
    "        , 'file'  : 'Emissions_crops_E_All_Data_(Normalized).csv'\n",
    "    }\n",
    "    , 'fao_emissions_intensities' : {\n",
    "          'title' : '[FAO] emissions intensities'\n",
    "        , 'src'   : 'https://www.fao.org/faostat/en/#data/EI'\n",
    "        , 'downl' : 'https://fenixservices.fao.org/faostat/static/bulkdownloads/'\n",
    "                  + 'Environment_Emissions_intensities_E_All_Data_(Normalized).zip'\n",
    "        , 'file'  : 'Environment_Emissions_intensities_E_All_Data_(Normalized).csv'\n",
    "    }\n",
    "    , 'fao_emissions_livestock' : {\n",
    "          'title' : '[FAO] emissions from livestock'\n",
    "        , 'src'   :  'https://www.fao.org/faostat/en/#data/GLE'\n",
    "        , 'downl' : 'https://fenixservices.fao.org/faostat/static/bulkdownloads/'\n",
    "                    + 'Emissions_livestock_E_All_Data_(Normalized).zip'\n",
    "        , 'file'  : 'Emissions_livestock_E_All_Data_(Normalized).csv'\n",
    "    }\n",
    "    , 'fao_food_balances' : { \n",
    "          'title' : '[FAO] food balances (2010-)'\n",
    "        , 'src'   : 'https://www.fao.org/faostat/en/#data/FBS'\n",
    "        , 'downl' : 'https://fenixservices.fao.org/faostat/static/bulkdownloads/'\n",
    "                  + 'FoodBalanceSheets_E_All_Data_(Normalized).zip'\n",
    "        , 'file'  : 'FoodBalanceSheets_E_All_Data_(Normalized).csv'\n",
    "    }\n",
    "    , 'fao_production' : {\n",
    "          'title' : '[FAO] production of crops and livestock products'\n",
    "        , 'src'   : 'https://www.fao.org/faostat/en/#data/QCL'\n",
    "        , 'downl' : 'https://fenixservices.fao.org/faostat/static/bulkdownloads/'\n",
    "                    + 'Production_Crops_Livestock_E_All_Data_(Normalized).zip'\n",
    "        , 'file'  : 'Production_Crops_Livestock_E_All_Data_(Normalized).csv'\n",
    "    }\n",
    "    , 'fao_trade_matrix' : {\n",
    "          'title' : '[FAO] detailed trade matrix'\n",
    "        , 'src'   : 'https://www.fao.org/faostat/en/#data/TM'\n",
    "        , 'downl' : 'https://fenixservices.fao.org/faostat/static/bulkdownloads/'\n",
    "                    + 'Trade_DetailedTradeMatrix_E_All_Data_(Normalized).zip'\n",
    "        , 'file'  : 'Trade_DetailedTradeMatrix_E_All_Data_(Normalized).csv'\n",
    "    }\n",
    "    , 'fao_population': {\n",
    "        'title': 'faostat: population'\n",
    "        , 'src'   : 'https://www.fao.org/faostat/en/#data/OA'\n",
    "        , 'downl': 'https://fenixservices.fao.org/faostat/static/bulkdownloads/' +\n",
    "            'Population_E_All_Data_(Normalized).zip'\n",
    "        , 'file': 'Population_E_All_Data_(Normalized).zip'\n",
    "    }\n",
    "}"
   ]
  },
  {
   "cell_type": "code",
   "execution_count": 13,
   "metadata": {},
   "outputs": [
    {
     "name": "stdout",
     "output_type": "stream",
     "text": [
      "# downloading: [FAO] emissions from crops\n",
      "+ file downloaded: Emissions_crops_E_All_Data_(Normalized).zip\n",
      "+ files extracted: ['Emissions_crops_E_All_Data_(Normalized).csv', 'Emissions_crops_E_AreaCodes.csv', 'Emissions_crops_E_Flags.csv', 'Emissions_crops_E_ItemCodes.csv']\n",
      "+ target file found: ./data/fao_emissions_crops/Emissions_crops_E_All_Data_(Normalized).csv\n",
      "# downloading: [FAO] emissions intensities\n",
      "+ file downloaded: Environment_Emissions_intensities_E_All_Data_(Normalized).zip\n",
      "+ files extracted: ['Environment_Emissions_intensities_E_All_Data_(Normalized).csv', 'Environment_Emissions_intensities_E_AreaCodes.csv', 'Environment_Emissions_intensities_E_Flags.csv', 'Environment_Emissions_intensities_E_ItemCodes.csv']\n",
      "+ target file found: ./data/fao_emissions_intensities/Environment_Emissions_intensities_E_All_Data_(Normalized).csv\n",
      "# downloading: [FAO] emissions from livestock\n",
      "+ file downloaded: Emissions_livestock_E_All_Data_(Normalized).zip\n",
      "+ files extracted: ['Emissions_livestock_E_All_Data_(Normalized).csv', 'Emissions_livestock_E_AreaCodes.csv', 'Emissions_livestock_E_Flags.csv', 'Emissions_livestock_E_ItemCodes.csv']\n",
      "+ target file found: ./data/fao_emissions_livestock/Emissions_livestock_E_All_Data_(Normalized).csv\n",
      "# downloading: [FAO] food balances (2010-)\n",
      "+ file downloaded: FoodBalanceSheets_E_All_Data_(Normalized).zip\n",
      "+ files extracted: ['FoodBalanceSheets_E_All_Data_(Normalized).csv', 'FoodBalanceSheets_E_AreaCodes.csv', 'FoodBalanceSheets_E_Flags.csv', 'FoodBalanceSheets_E_ItemCodes.csv']\n",
      "+ target file found: ./data/fao_food_balances/FoodBalanceSheets_E_All_Data_(Normalized).csv\n",
      "# downloading: [FAO] production of crops and livestock products\n",
      "+ file downloaded: Production_Crops_Livestock_E_All_Data_(Normalized).zip\n",
      "+ files extracted: ['Production_Crops_Livestock_E_All_Data_(Normalized).csv', 'Production_Crops_Livestock_E_AreaCodes.csv', 'Production_Crops_Livestock_E_Flags.csv', 'Production_Crops_Livestock_E_ItemCodes.csv']\n",
      "+ target file found: ./data/fao_production/Production_Crops_Livestock_E_All_Data_(Normalized).csv\n",
      "# downloading: [FAO] detailed trade matrix\n",
      "+ file downloaded: Trade_DetailedTradeMatrix_E_All_Data_(Normalized).zip\n",
      "+ files extracted: ['Trade_DetailedTradeMatrix_E_All_Data_(Normalized).csv', 'Trade_DetailedTradeMatrix_E_AreaCodes.csv', 'Trade_DetailedTradeMatrix_E_Flags.csv', 'Trade_DetailedTradeMatrix_E_ItemCodes.csv']\n",
      "+ target file found: ./data/fao_trade_matrix/Trade_DetailedTradeMatrix_E_All_Data_(Normalized).csv\n",
      "# downloading: faostat: population\n",
      "+ file downloaded: Population_E_All_Data_(Normalized).zip\n",
      "+ files extracted: ['Population_E_All_Data_(Normalized).csv', 'Population_E_AreaCodes.csv', 'Population_E_Flags.csv']\n",
      "ERROR! target file not extracted\n"
     ]
    }
   ],
   "source": [
    "# create data base directory (should be excluded in '.gitignore')\n",
    "if not fdf.create_data_dir():\n",
    "    print('ERROR! create data dir failed')\n",
    "else:\n",
    "    # download & extract all files\n",
    "    for sub_dir, data in data_downloads.items():\n",
    "        print('# downloading:', data['title'])\n",
    "        if not (zipfile := fdf.download(data['downl'], sub_dir)):\n",
    "            print('ERROR! download failed')\n",
    "        else:\n",
    "            # search for extracted target file & print path\n",
    "            if not data['file'] in fdf.unzip(zipfile, sub_dir):\n",
    "                print('ERROR! target file not extracted')\n",
    "            else:\n",
    "                if not (path := fdf.get_path(data['file'], sub_dir, True)):\n",
    "                    print('ERROR! target file not found in file system')\n",
    "                else:\n",
    "                    print('+ target file found:', path)"
   ]
  },
  {
   "cell_type": "code",
   "execution_count": 4,
   "metadata": {},
   "outputs": [
    {
     "name": "stdout",
     "output_type": "stream",
     "text": [
      "# downloading faostat: crops & livestock production\n"
     ]
    },
    {
     "ename": "AttributeError",
     "evalue": "module '_functions_data_files' has no attribute 'download_file'",
     "output_type": "error",
     "traceback": [
      "\u001b[0;31m---------------------------------------------------------------------------\u001b[0m",
      "\u001b[0;31mAttributeError\u001b[0m                            Traceback (most recent call last)",
      "Cell \u001b[0;32mIn[4], line 4\u001b[0m\n\u001b[1;32m      2\u001b[0m \u001b[38;5;28;01mfor\u001b[39;00m src, dl \u001b[38;5;129;01min\u001b[39;00m data\u001b[38;5;241m.\u001b[39mitems():\n\u001b[1;32m      3\u001b[0m     \u001b[38;5;28mprint\u001b[39m(\u001b[38;5;124m'\u001b[39m\u001b[38;5;124m# downloading\u001b[39m\u001b[38;5;124m'\u001b[39m, dl[\u001b[38;5;124m'\u001b[39m\u001b[38;5;124mtitle\u001b[39m\u001b[38;5;124m'\u001b[39m])\n\u001b[0;32m----> 4\u001b[0m     \u001b[38;5;28;01mif\u001b[39;00m zipfile \u001b[38;5;241m:=\u001b[39m \u001b[43mfdf\u001b[49m\u001b[38;5;241;43m.\u001b[39;49m\u001b[43mdownload_file\u001b[49m(dl[\u001b[38;5;124m'\u001b[39m\u001b[38;5;124murl\u001b[39m\u001b[38;5;124m'\u001b[39m], src):\n\u001b[1;32m      5\u001b[0m         \u001b[38;5;28;01mif\u001b[39;00m \u001b[38;5;129;01mnot\u001b[39;00m dl[\u001b[38;5;124m'\u001b[39m\u001b[38;5;124mfile\u001b[39m\u001b[38;5;124m'\u001b[39m] \u001b[38;5;129;01min\u001b[39;00m fdf\u001b[38;5;241m.\u001b[39munzip_file(zipfile, src):\n\u001b[1;32m      6\u001b[0m             \u001b[38;5;28mprint\u001b[39m(\u001b[38;5;124m'\u001b[39m\u001b[38;5;124mERROR! searched file not extracted\u001b[39m\u001b[38;5;124m'\u001b[39m)    \n",
      "\u001b[0;31mAttributeError\u001b[0m: module '_functions_data_files' has no attribute 'download_file'"
     ]
    }
   ],
   "source": [
    "# download, extract all files, search for csv target file & print full path\n",
    "for src, dl in data.items():\n",
    "    print('# downloading', dl['title'])\n",
    "    if zipfile := fdf.download_file(dl['url'], src):\n",
    "        if not dl['file'] in fdf.unzip_file(zipfile, src):\n",
    "            print('ERROR! searched file not extracted')    \n",
    "        elif not (path := fdf.get_file_path(dl['file'], src, True)):\n",
    "            print('ERROR! searched file not found in file system')\n",
    "        else:\n",
    "            print('+ searched file found:', path)\n",
    "    print()"
   ]
  }
 ],
 "metadata": {
  "kernelspec": {
   "display_name": "capstone",
   "language": "python",
   "name": "python3"
  },
  "language_info": {
   "codemirror_mode": {
    "name": "ipython",
    "version": 3
   },
   "file_extension": ".py",
   "mimetype": "text/x-python",
   "name": "python",
   "nbconvert_exporter": "python",
   "pygments_lexer": "ipython3",
   "version": "3.9.18"
  }
 },
 "nbformat": 4,
 "nbformat_minor": 2
}
